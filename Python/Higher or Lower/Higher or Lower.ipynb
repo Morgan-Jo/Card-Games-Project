{
 "cells": [
  {
   "cell_type": "code",
   "execution_count": 1,
   "id": "9f1a25de-c033-4946-9933-5fc40db60a7c",
   "metadata": {},
   "outputs": [],
   "source": [
    "import random"
   ]
  },
  {
   "cell_type": "code",
   "execution_count": 2,
   "id": "4d49977d-d375-49f4-af18-21419a49cca8",
   "metadata": {},
   "outputs": [],
   "source": [
    "def draw_card():\n",
    "    return random.randint(1, 13)\n",
    "\n",
    "def card_name(value):\n",
    "    names = {1: \"Ace\", 11: \"Jack\", 12: \"Queen\", 13: \"King\"}\n",
    "    return names.get(value, str(value))"
   ]
  },
  {
   "cell_type": "code",
   "execution_count": 3,
   "id": "53556e6a-ad40-42dd-b675-01bdd23b736a",
   "metadata": {},
   "outputs": [],
   "source": [
    "def higher_or_lower_game():\n",
    "    print(\"Welcome to the Higher or Lower Card Game!\")\n",
    "    print(\"Guess if the next card will be higher or lower than the current one.\")\n",
    "    print(\"Cards range from Ace (1) to King (13).\")\n",
    "\n",
    "    score = 0\n",
    "    current_card = draw_card()\n",
    "\n",
    "    while True:\n",
    "        print(f\"\\nCurrent card: {card_name(current_card)}\")\n",
    "\n",
    "        guess = input(\"Will the next card be higher or lower? (h/l): \").strip().lower()\n",
    "        while guess not in [\"h\", \"l\"]:\n",
    "            guess = input(\"Invalid input. Enter 'h' for higher or 'l' for lower: \").strip().lower()\n",
    "\n",
    "        next_card = draw_card()\n",
    "        print(f\"Next card: {card_name(next_card)}\")\n",
    "\n",
    "        if next_card == current_card:\n",
    "            print(\"It's a tie! Game over.\")\n",
    "            break\n",
    "        elif (guess == \"h\" and next_card > current_card) or (guess == \"l\" and next_card < current_card):\n",
    "            score += 1\n",
    "            print(\"Correct guess! 🎉 Score:\", score)\n",
    "            current_card = next_card\n",
    "        else:\n",
    "            print(\"Wrong guess. Game over.\")\n",
    "            break\n",
    "\n",
    "    print(\"Final score:\", score)"
   ]
  },
  {
   "cell_type": "code",
   "execution_count": 5,
   "id": "eae852df-12e3-47ea-bc57-781665c5ea35",
   "metadata": {},
   "outputs": [
    {
     "name": "stdout",
     "output_type": "stream",
     "text": [
      "Welcome to the Higher or Lower Card Game!\n",
      "Guess if the next card will be higher or lower than the current one.\n",
      "Cards range from Ace (1) to King (13).\n",
      "\n",
      "Current card: Queen\n"
     ]
    },
    {
     "name": "stdin",
     "output_type": "stream",
     "text": [
      "Will the next card be higher or lower? (h/l):  l\n"
     ]
    },
    {
     "name": "stdout",
     "output_type": "stream",
     "text": [
      "Next card: 5\n",
      "Correct guess! 🎉 Score: 1\n",
      "\n",
      "Current card: 5\n"
     ]
    },
    {
     "name": "stdin",
     "output_type": "stream",
     "text": [
      "Will the next card be higher or lower? (h/l):  h\n"
     ]
    },
    {
     "name": "stdout",
     "output_type": "stream",
     "text": [
      "Next card: 8\n",
      "Correct guess! 🎉 Score: 2\n",
      "\n",
      "Current card: 8\n"
     ]
    },
    {
     "name": "stdin",
     "output_type": "stream",
     "text": [
      "Will the next card be higher or lower? (h/l):  h\n"
     ]
    },
    {
     "name": "stdout",
     "output_type": "stream",
     "text": [
      "Next card: Ace\n",
      "Wrong guess. Game over.\n",
      "Final score: 2\n"
     ]
    }
   ],
   "source": [
    "# Run the game\n",
    "higher_or_lower_game()"
   ]
  },
  {
   "cell_type": "code",
   "execution_count": null,
   "id": "363be214-705d-4b6d-8a00-fc2eec4422c9",
   "metadata": {},
   "outputs": [],
   "source": []
  }
 ],
 "metadata": {
  "kernelspec": {
   "display_name": "Python 3 (ipykernel)",
   "language": "python",
   "name": "python3"
  },
  "language_info": {
   "codemirror_mode": {
    "name": "ipython",
    "version": 3
   },
   "file_extension": ".py",
   "mimetype": "text/x-python",
   "name": "python",
   "nbconvert_exporter": "python",
   "pygments_lexer": "ipython3",
   "version": "3.12.7"
  }
 },
 "nbformat": 4,
 "nbformat_minor": 5
}
