{
 "cells": [
  {
   "cell_type": "code",
   "execution_count": 1,
   "id": "c80997ab-3898-4f1c-82cf-984ac35f2819",
   "metadata": {},
   "outputs": [],
   "source": [
    "import random\n",
    "from collections import defaultdict, Counter"
   ]
  },
  {
   "cell_type": "code",
   "execution_count": 2,
   "id": "ca42b8f3-6ab2-484a-b26a-289ab06aee51",
   "metadata": {},
   "outputs": [],
   "source": [
    "# Initialize deck\n",
    "ranks = ['2', '3', '4', '5', '6', '7', '8', '9', '10', 'J', 'Q', 'K', 'A']\n",
    "deck = ranks * 4\n",
    "random.shuffle(deck)"
   ]
  },
  {
   "cell_type": "code",
   "execution_count": 3,
   "id": "bbd1888c-a9b5-47dd-8a9c-aa0eaaa0653d",
   "metadata": {},
   "outputs": [],
   "source": [
    "# Deal 7 cards to each player\n",
    "player_hand = [deck.pop() for _ in range(7)]\n",
    "computer_hand = [deck.pop() for _ in range(7)]\n",
    "player_books = []\n",
    "computer_books = []"
   ]
  },
  {
   "cell_type": "code",
   "execution_count": 4,
   "id": "46ac9367-a16f-429f-a3c9-6ab04cf36cbc",
   "metadata": {},
   "outputs": [],
   "source": [
    "def check_books(hand, books):\n",
    "    counter = Counter(hand)\n",
    "    for rank, count in counter.items():\n",
    "        if count == 4:\n",
    "            books.append(rank)\n",
    "            hand[:] = [card for card in hand if card != rank]"
   ]
  },
  {
   "cell_type": "code",
   "execution_count": 5,
   "id": "fbfff9a1-0525-471d-af36-a1cce6c5dc80",
   "metadata": {},
   "outputs": [],
   "source": [
    "def go_fish_turn(player_hand, opponent_hand, books, player_name):\n",
    "    while True:\n",
    "        print(f\"\\n{player_name}'s Turn:\")\n",
    "        print(f\"Your hand: {player_hand}\")\n",
    "        ask = input(\"Ask for a rank you have: \").strip().upper()\n",
    "        if ask not in player_hand:\n",
    "            print(\"You must ask for a rank you already have!\")\n",
    "            continue\n",
    "        if ask in opponent_hand:\n",
    "            count = opponent_hand.count(ask)\n",
    "            for _ in range(count):\n",
    "                opponent_hand.remove(ask)\n",
    "                player_hand.append(ask)\n",
    "            print(f\"{player_name} got {count} '{ask}' from opponent!\")\n",
    "        else:\n",
    "            print(\"Go Fish!\")\n",
    "            if deck:\n",
    "                drawn = deck.pop()\n",
    "                print(f\"{player_name} drew a {drawn}\")\n",
    "                player_hand.append(drawn)\n",
    "                if drawn == ask:\n",
    "                    print(\"Lucky! You go again.\")\n",
    "                    check_books(player_hand, books)\n",
    "                    continue\n",
    "            else:\n",
    "                print(\"The deck is empty.\")\n",
    "        break\n",
    "    check_books(player_hand, books)"
   ]
  },
  {
   "cell_type": "code",
   "execution_count": 6,
   "id": "1ddc4ee6-886c-4bdd-9e23-d57e26419f96",
   "metadata": {},
   "outputs": [],
   "source": [
    "def computer_turn():\n",
    "    ask = random.choice([card for card in computer_hand])\n",
    "    print(f\"\\nComputer's Turn:\")\n",
    "    print(f\"Computer asks for: {ask}\")\n",
    "    if ask in player_hand:\n",
    "        count = player_hand.count(ask)\n",
    "        for _ in range(count):\n",
    "            player_hand.remove(ask)\n",
    "            computer_hand.append(ask)\n",
    "        print(f\"Computer got {count} '{ask}' from you!\")\n",
    "    else:\n",
    "        print(\"Go Fish!\")\n",
    "        if deck:\n",
    "            drawn = deck.pop()\n",
    "            print(f\"Computer drew a card.\")\n",
    "            computer_hand.append(drawn)\n",
    "            if drawn == ask:\n",
    "                print(\"Computer got lucky and goes again!\")\n",
    "                check_books(computer_hand, computer_books)\n",
    "                computer_turn()\n",
    "                return\n",
    "        else:\n",
    "            print(\"Deck is empty.\")\n",
    "    check_books(computer_hand, computer_books)"
   ]
  },
  {
   "cell_type": "code",
   "execution_count": 7,
   "id": "ac03bbbc-828c-4c3a-ad77-80b691a87362",
   "metadata": {},
   "outputs": [
    {
     "name": "stdout",
     "output_type": "stream",
     "text": [
      "\n",
      "Player's Turn:\n",
      "Your hand: ['A', '9', '3', 'Q', '9', '5', 'K']\n"
     ]
    },
    {
     "name": "stdin",
     "output_type": "stream",
     "text": [
      "Ask for a rank you have:  9\n"
     ]
    },
    {
     "name": "stdout",
     "output_type": "stream",
     "text": [
      "Go Fish!\n",
      "Player drew a 5\n",
      "\n",
      "Computer's Turn:\n",
      "Computer asks for: 5\n",
      "Computer got 2 '5' from you!\n",
      "\n",
      "Player's Turn:\n",
      "Your hand: ['A', '9', '3', 'Q', '9', 'K']\n"
     ]
    },
    {
     "name": "stdin",
     "output_type": "stream",
     "text": [
      "Ask for a rank you have:  3\n"
     ]
    },
    {
     "name": "stdout",
     "output_type": "stream",
     "text": [
      "Player got 1 '3' from opponent!\n",
      "\n",
      "Computer's Turn:\n",
      "Computer asks for: 7\n",
      "Go Fish!\n",
      "Computer drew a card.\n",
      "\n",
      "Player's Turn:\n",
      "Your hand: ['A', '9', '3', 'Q', '9', 'K', '3']\n"
     ]
    },
    {
     "name": "stdin",
     "output_type": "stream",
     "text": [
      "Ask for a rank you have:  K\n"
     ]
    },
    {
     "name": "stdout",
     "output_type": "stream",
     "text": [
      "Player got 1 'K' from opponent!\n",
      "\n",
      "Computer's Turn:\n",
      "Computer asks for: 5\n",
      "Go Fish!\n",
      "Computer drew a card.\n",
      "\n",
      "Player's Turn:\n",
      "Your hand: ['A', '9', '3', 'Q', '9', 'K', '3', 'K']\n"
     ]
    },
    {
     "name": "stdin",
     "output_type": "stream",
     "text": [
      "Ask for a rank you have:  A\n"
     ]
    },
    {
     "name": "stdout",
     "output_type": "stream",
     "text": [
      "Go Fish!\n",
      "Player drew a 5\n",
      "\n",
      "Computer's Turn:\n",
      "Computer asks for: 8\n",
      "Go Fish!\n",
      "Computer drew a card.\n",
      "Computer got lucky and goes again!\n",
      "\n",
      "Computer's Turn:\n",
      "Computer asks for: 5\n",
      "Computer got 1 '5' from you!\n",
      "\n",
      "Player's Turn:\n",
      "Your hand: ['A', '9', '3', 'Q', '9', 'K', '3', 'K']\n"
     ]
    },
    {
     "name": "stdin",
     "output_type": "stream",
     "text": [
      "Ask for a rank you have:  9\n"
     ]
    },
    {
     "name": "stdout",
     "output_type": "stream",
     "text": [
      "Go Fish!\n",
      "Player drew a J\n",
      "\n",
      "Computer's Turn:\n",
      "Computer asks for: 8\n",
      "Go Fish!\n",
      "Computer drew a card.\n",
      "\n",
      "Player's Turn:\n",
      "Your hand: ['A', '9', '3', 'Q', '9', 'K', '3', 'K', 'J']\n"
     ]
    },
    {
     "name": "stdin",
     "output_type": "stream",
     "text": [
      "Ask for a rank you have:  3\n"
     ]
    },
    {
     "name": "stdout",
     "output_type": "stream",
     "text": [
      "Go Fish!\n",
      "Player drew a A\n",
      "\n",
      "Computer's Turn:\n",
      "Computer asks for: 8\n",
      "Go Fish!\n",
      "Computer drew a card.\n",
      "\n",
      "Player's Turn:\n",
      "Your hand: ['A', '9', '3', 'Q', '9', 'K', '3', 'K', 'J', 'A']\n"
     ]
    },
    {
     "name": "stdin",
     "output_type": "stream",
     "text": [
      "Ask for a rank you have:  A\n"
     ]
    },
    {
     "name": "stdout",
     "output_type": "stream",
     "text": [
      "Player got 1 'A' from opponent!\n",
      "\n",
      "Computer's Turn:\n",
      "Computer asks for: 10\n",
      "Go Fish!\n",
      "Computer drew a card.\n",
      "\n",
      "Player's Turn:\n",
      "Your hand: ['A', '9', '3', 'Q', '9', 'K', '3', 'K', 'J', 'A', 'A']\n"
     ]
    },
    {
     "name": "stdin",
     "output_type": "stream",
     "text": [
      "Ask for a rank you have:  9\n"
     ]
    },
    {
     "name": "stdout",
     "output_type": "stream",
     "text": [
      "Go Fish!\n",
      "Player drew a 6\n",
      "\n",
      "Computer's Turn:\n",
      "Computer asks for: 10\n",
      "Go Fish!\n",
      "Computer drew a card.\n",
      "\n",
      "Player's Turn:\n",
      "Your hand: ['A', '9', '3', 'Q', '9', 'K', '3', 'K', 'J', 'A', 'A', '6']\n"
     ]
    },
    {
     "name": "stdin",
     "output_type": "stream",
     "text": [
      "Ask for a rank you have:  6\n"
     ]
    },
    {
     "name": "stdout",
     "output_type": "stream",
     "text": [
      "Go Fish!\n",
      "Player drew a 3\n",
      "\n",
      "Computer's Turn:\n",
      "Computer asks for: 10\n",
      "Go Fish!\n",
      "Computer drew a card.\n",
      "\n",
      "Player's Turn:\n",
      "Your hand: ['A', '9', '3', 'Q', '9', 'K', '3', 'K', 'J', 'A', 'A', '6', '3']\n"
     ]
    },
    {
     "name": "stdin",
     "output_type": "stream",
     "text": [
      "Ask for a rank you have:  3\n"
     ]
    },
    {
     "name": "stdout",
     "output_type": "stream",
     "text": [
      "Go Fish!\n",
      "Player drew a Q\n",
      "\n",
      "Computer's Turn:\n",
      "Computer asks for: 10\n",
      "Go Fish!\n",
      "Computer drew a card.\n",
      "\n",
      "Player's Turn:\n",
      "Your hand: ['A', '9', '3', 'Q', '9', 'K', '3', 'K', 'J', 'A', 'A', '6', '3', 'Q']\n"
     ]
    },
    {
     "name": "stdin",
     "output_type": "stream",
     "text": [
      "Ask for a rank you have:  Q\n"
     ]
    },
    {
     "name": "stdout",
     "output_type": "stream",
     "text": [
      "Player got 1 'Q' from opponent!\n",
      "\n",
      "Computer's Turn:\n",
      "Computer asks for: 2\n",
      "Go Fish!\n",
      "Computer drew a card.\n",
      "\n",
      "Player's Turn:\n",
      "Your hand: ['A', '9', '3', 'Q', '9', 'K', '3', 'K', 'J', 'A', 'A', '6', '3', 'Q', 'Q']\n"
     ]
    },
    {
     "name": "stdin",
     "output_type": "stream",
     "text": [
      "Ask for a rank you have:  9\n"
     ]
    },
    {
     "name": "stdout",
     "output_type": "stream",
     "text": [
      "Go Fish!\n",
      "Player drew a 6\n",
      "\n",
      "Computer's Turn:\n",
      "Computer asks for: 8\n",
      "Go Fish!\n",
      "Computer drew a card.\n",
      "\n",
      "Player's Turn:\n",
      "Your hand: ['A', '9', '3', 'Q', '9', 'K', '3', 'K', 'J', 'A', 'A', '6', '3', 'Q', 'Q', '6']\n"
     ]
    },
    {
     "name": "stdin",
     "output_type": "stream",
     "text": [
      "Ask for a rank you have:  6\n"
     ]
    },
    {
     "name": "stdout",
     "output_type": "stream",
     "text": [
      "Go Fish!\n",
      "Player drew a K\n",
      "\n",
      "Computer's Turn:\n",
      "Computer asks for: 2\n",
      "Go Fish!\n",
      "Computer drew a card.\n",
      "\n",
      "Player's Turn:\n",
      "Your hand: ['A', '9', '3', 'Q', '9', 'K', '3', 'K', 'J', 'A', 'A', '6', '3', 'Q', 'Q', '6', 'K']\n"
     ]
    },
    {
     "name": "stdin",
     "output_type": "stream",
     "text": [
      "Ask for a rank you have:  6\n"
     ]
    },
    {
     "name": "stdout",
     "output_type": "stream",
     "text": [
      "Go Fish!\n",
      "Player drew a 8\n",
      "\n",
      "Computer's Turn:\n",
      "Computer asks for: 8\n",
      "Computer got 1 '8' from you!\n",
      "\n",
      "Player's Turn:\n",
      "Your hand: ['A', '9', '3', 'Q', '9', 'K', '3', 'K', 'J', 'A', 'A', '6', '3', 'Q', 'Q', '6', 'K']\n"
     ]
    },
    {
     "name": "stdin",
     "output_type": "stream",
     "text": [
      "Ask for a rank you have:  Q\n"
     ]
    },
    {
     "name": "stdout",
     "output_type": "stream",
     "text": [
      "Go Fish!\n",
      "Player drew a 10\n",
      "\n",
      "Computer's Turn:\n",
      "Computer asks for: 4\n",
      "Go Fish!\n",
      "Computer drew a card.\n",
      "\n",
      "Player's Turn:\n",
      "Your hand: ['A', '9', '3', 'Q', '9', 'K', '3', 'K', 'J', 'A', 'A', '6', '3', 'Q', 'Q', '6', 'K', '10']\n"
     ]
    },
    {
     "name": "stdin",
     "output_type": "stream",
     "text": [
      "Ask for a rank you have:  K\n"
     ]
    },
    {
     "name": "stdout",
     "output_type": "stream",
     "text": [
      "Go Fish!\n",
      "Player drew a 3\n",
      "\n",
      "Computer's Turn:\n",
      "Computer asks for: 2\n",
      "Go Fish!\n",
      "Computer drew a card.\n",
      "\n",
      "Player's Turn:\n",
      "Your hand: ['A', '9', 'Q', '9', 'K', 'K', 'J', 'A', 'A', '6', 'Q', 'Q', '6', 'K', '10']\n"
     ]
    },
    {
     "name": "stdin",
     "output_type": "stream",
     "text": [
      "Ask for a rank you have:  A\n"
     ]
    },
    {
     "name": "stdout",
     "output_type": "stream",
     "text": [
      "Go Fish!\n",
      "Player drew a 7\n",
      "\n",
      "Computer's Turn:\n",
      "Computer asks for: 2\n",
      "Go Fish!\n",
      "Computer drew a card.\n",
      "\n",
      "Player's Turn:\n",
      "Your hand: ['A', '9', 'Q', '9', 'K', 'K', 'J', 'A', 'A', '6', 'Q', 'Q', '6', 'K', '10', '7']\n"
     ]
    },
    {
     "name": "stdin",
     "output_type": "stream",
     "text": [
      "Ask for a rank you have:  A\n"
     ]
    },
    {
     "name": "stdout",
     "output_type": "stream",
     "text": [
      "Go Fish!\n",
      "Player drew a 9\n",
      "\n",
      "Computer's Turn:\n",
      "Computer asks for: 4\n",
      "Go Fish!\n",
      "Computer drew a card.\n",
      "\n",
      "Player's Turn:\n",
      "Your hand: ['A', '9', 'Q', '9', 'K', 'K', 'J', 'A', 'A', '6', 'Q', 'Q', '6', 'K', '10', '7', '9']\n"
     ]
    },
    {
     "name": "stdin",
     "output_type": "stream",
     "text": [
      "Ask for a rank you have:  A\n"
     ]
    },
    {
     "name": "stdout",
     "output_type": "stream",
     "text": [
      "Go Fish!\n",
      "Player drew a 7\n",
      "\n",
      "Computer's Turn:\n",
      "Computer asks for: J\n",
      "Computer got 1 'J' from you!\n",
      "\n",
      "Player's Turn:\n",
      "Your hand: ['A', '9', 'Q', '9', 'K', 'K', 'A', 'A', '6', 'Q', 'Q', '6', 'K', '10', '7', '9', '7']\n"
     ]
    },
    {
     "name": "stdin",
     "output_type": "stream",
     "text": [
      "Ask for a rank you have:  7\n"
     ]
    },
    {
     "name": "stdout",
     "output_type": "stream",
     "text": [
      "Player got 2 '7' from opponent!\n",
      "\n",
      "Computer's Turn:\n",
      "Computer asks for: 2\n",
      "Go Fish!\n",
      "Computer drew a card.\n",
      "Computer got lucky and goes again!\n",
      "\n",
      "Computer's Turn:\n",
      "Computer asks for: 10\n",
      "Computer got 1 '10' from you!\n",
      "\n",
      "Player's Turn:\n",
      "Your hand: ['A', '9', 'Q', '9', 'K', 'K', 'A', 'A', '6', 'Q', 'Q', '6', 'K', '9']\n"
     ]
    },
    {
     "name": "stdin",
     "output_type": "stream",
     "text": [
      "Ask for a rank you have:  K\n"
     ]
    },
    {
     "name": "stdout",
     "output_type": "stream",
     "text": [
      "Player got 1 'K' from opponent!\n",
      "\n",
      "Computer's Turn:\n",
      "Computer asks for: J\n",
      "Go Fish!\n",
      "Computer drew a card.\n",
      "\n",
      "Player's Turn:\n",
      "Your hand: ['A', '9', 'Q', '9', 'A', 'A', '6', 'Q', 'Q', '6', '9']\n"
     ]
    },
    {
     "name": "stdin",
     "output_type": "stream",
     "text": [
      "Ask for a rank you have:  9\n"
     ]
    },
    {
     "name": "stdout",
     "output_type": "stream",
     "text": [
      "Go Fish!\n",
      "Player drew a 9\n",
      "Lucky! You go again.\n",
      "\n",
      "Player's Turn:\n",
      "Your hand: ['A', 'Q', 'A', 'A', '6', 'Q', 'Q', '6']\n"
     ]
    },
    {
     "name": "stdin",
     "output_type": "stream",
     "text": [
      "Ask for a rank you have:  6\n"
     ]
    },
    {
     "name": "stdout",
     "output_type": "stream",
     "text": [
      "Player got 1 '6' from opponent!\n",
      "\n",
      "Computer's Turn:\n",
      "Computer asks for: J\n",
      "Go Fish!\n",
      "Computer drew a card.\n",
      "\n",
      "Player's Turn:\n",
      "Your hand: ['A', 'Q', 'A', 'A', '6', 'Q', 'Q', '6', '6']\n"
     ]
    },
    {
     "name": "stdin",
     "output_type": "stream",
     "text": [
      "Ask for a rank you have:  Q\n"
     ]
    },
    {
     "name": "stdout",
     "output_type": "stream",
     "text": [
      "Go Fish!\n",
      "Player drew a J\n",
      "\n",
      "Computer's Turn:\n",
      "Computer asks for: A\n",
      "Computer got 3 'A' from you!\n",
      "\n",
      "Player's Turn:\n",
      "Your hand: ['Q', '6', 'Q', 'Q', '6', '6', 'J']\n"
     ]
    },
    {
     "name": "stdin",
     "output_type": "stream",
     "text": [
      "Ask for a rank you have:  Q\n"
     ]
    },
    {
     "name": "stdout",
     "output_type": "stream",
     "text": [
      "Go Fish!\n",
      "Player drew a Q\n",
      "Lucky! You go again.\n",
      "\n",
      "Player's Turn:\n",
      "Your hand: ['6', '6', '6', 'J']\n"
     ]
    },
    {
     "name": "stdin",
     "output_type": "stream",
     "text": [
      "Ask for a rank you have:  6\n"
     ]
    },
    {
     "name": "stdout",
     "output_type": "stream",
     "text": [
      "Go Fish!\n",
      "Player drew a 6\n",
      "Lucky! You go again.\n",
      "\n",
      "Player's Turn:\n",
      "Your hand: ['J']\n"
     ]
    },
    {
     "name": "stdin",
     "output_type": "stream",
     "text": [
      "Ask for a rank you have:  J\n"
     ]
    },
    {
     "name": "stdout",
     "output_type": "stream",
     "text": [
      "Player got 3 'J' from opponent!\n"
     ]
    }
   ],
   "source": [
    "# Game loop\n",
    "while len(player_books) + len(computer_books) < 13:\n",
    "    if not player_hand and deck:\n",
    "        player_hand.append(deck.pop())\n",
    "    if not computer_hand and deck:\n",
    "        computer_hand.append(deck.pop())\n",
    "\n",
    "    go_fish_turn(player_hand, computer_hand, player_books, \"Player\")\n",
    "    if len(player_books) + len(computer_books) >= 13:\n",
    "        break\n",
    "    computer_turn()"
   ]
  },
  {
   "cell_type": "code",
   "execution_count": 8,
   "id": "bde329a4-5722-4a08-9d03-237c2e4a0e79",
   "metadata": {},
   "outputs": [
    {
     "name": "stdout",
     "output_type": "stream",
     "text": [
      "\n",
      "Game Over!\n",
      "Your books: ['3', '7', 'K', '9', 'Q', '6', 'J'] (7 books)\n",
      "Computer's books: ['5', '8', '2', '10', '4', 'A'] (6 books)\n",
      "🎉 You win!\n"
     ]
    }
   ],
   "source": [
    "# Results\n",
    "print(\"\\nGame Over!\")\n",
    "print(f\"Your books: {player_books} ({len(player_books)} books)\")\n",
    "print(f\"Computer's books: {computer_books} ({len(computer_books)} books)\")\n",
    "if len(player_books) > len(computer_books):\n",
    "    print(\"🎉 You win!\")\n",
    "elif len(player_books) < len(computer_books):\n",
    "    print(\"😢 You lose!\")\n",
    "else:\n",
    "    print(\"🤝 It's a tie!\")"
   ]
  },
  {
   "cell_type": "code",
   "execution_count": null,
   "id": "f8786a28-696f-4c21-b580-a3ac89e4512b",
   "metadata": {},
   "outputs": [],
   "source": []
  }
 ],
 "metadata": {
  "kernelspec": {
   "display_name": "Python 3 (ipykernel)",
   "language": "python",
   "name": "python3"
  },
  "language_info": {
   "codemirror_mode": {
    "name": "ipython",
    "version": 3
   },
   "file_extension": ".py",
   "mimetype": "text/x-python",
   "name": "python",
   "nbconvert_exporter": "python",
   "pygments_lexer": "ipython3",
   "version": "3.12.7"
  }
 },
 "nbformat": 4,
 "nbformat_minor": 5
}
