{
 "cells": [
  {
   "cell_type": "code",
   "execution_count": 1,
   "id": "8aaea484-22c9-4935-8530-e433103dab86",
   "metadata": {},
   "outputs": [],
   "source": [
    "import random"
   ]
  },
  {
   "cell_type": "code",
   "execution_count": 2,
   "id": "e5684a36-ac6d-4382-814a-af79944f8eec",
   "metadata": {},
   "outputs": [],
   "source": [
    "# Step 1: Define deck and card values\n",
    "suits = ['Hearts', 'Diamonds', 'Clubs', 'Spades']\n",
    "ranks = ['2', '3', '4', '5', '6', '7', '8', '9', '10', 'J', 'Q', 'K', 'A']\n",
    "values = {'2': 2, '3': 3, '4': 4, '5': 5, '6': 6, '7': 7, '8': 8,\n",
    "          '9': 9, '10': 10, 'J': 10, 'Q': 10, 'K': 10, 'A': 11}"
   ]
  },
  {
   "cell_type": "code",
   "execution_count": 3,
   "id": "38e11a21-bf82-4772-9e78-9737210fd819",
   "metadata": {},
   "outputs": [],
   "source": [
    "# Step 2: Create and shuffle deck\n",
    "def create_deck():\n",
    "    deck = [(rank, suit) for suit in suits for rank in ranks]\n",
    "    random.shuffle(deck)\n",
    "    return deck"
   ]
  },
  {
   "cell_type": "code",
   "execution_count": 4,
   "id": "8978c86c-e9d9-4cf1-9d07-fb8592d95141",
   "metadata": {},
   "outputs": [],
   "source": [
    "# Step 3: Calculate hand value\n",
    "def calculate_hand_value(hand):\n",
    "    value = sum(values[card[0]] for card in hand)\n",
    "    aces = sum(1 for card in hand if card[0] == 'A')\n",
    "    \n",
    "    # Adjust for aces\n",
    "    while value > 21 and aces:\n",
    "        value -= 10\n",
    "        aces -= 1\n",
    "    return value"
   ]
  },
  {
   "cell_type": "code",
   "execution_count": 5,
   "id": "63eea782-b288-4328-8b77-8626cb1d28ea",
   "metadata": {},
   "outputs": [],
   "source": [
    "# Step 4: Display hand\n",
    "def show_hand(hand, owner, hide_first_card=False):\n",
    "    if hide_first_card:\n",
    "        print(f\"{owner}'s Hand: [Hidden], {hand[1]}\")\n",
    "    else:\n",
    "        print(f\"{owner}'s Hand:\", ', '.join(f\"{rank} of {suit}\" for rank, suit in hand),\n",
    "              f\" | Value: {calculate_hand_value(hand)}\")"
   ]
  },
  {
   "cell_type": "code",
   "execution_count": 6,
   "id": "5c94c1b6-8d4c-4ac4-9016-e5c31cb73dd8",
   "metadata": {},
   "outputs": [],
   "source": [
    "# Step 5: Game logic\n",
    "def play_blackjack():\n",
    "    deck = create_deck()\n",
    "    player_hand = [deck.pop(), deck.pop()]\n",
    "    dealer_hand = [deck.pop(), deck.pop()]\n",
    "\n",
    "    print(\"=== Blackjack Game ===\")\n",
    "    show_hand(dealer_hand, \"Dealer\", hide_first_card=True)\n",
    "    show_hand(player_hand, \"Player\")\n",
    "\n",
    "    # Player's turn\n",
    "    while True:\n",
    "        choice = input(\"Do you want to [h]it or [s]tand? \").lower()\n",
    "        if choice == 'h':\n",
    "            player_hand.append(deck.pop())\n",
    "            show_hand(player_hand, \"Player\")\n",
    "            if calculate_hand_value(player_hand) > 21:\n",
    "                print(\"You bust! Dealer wins.\")\n",
    "                return\n",
    "        elif choice == 's':\n",
    "            break\n",
    "\n",
    "    # Dealer's turn\n",
    "    print(\"\\nDealer reveals hand:\")\n",
    "    show_hand(dealer_hand, \"Dealer\")\n",
    "    while calculate_hand_value(dealer_hand) < 17:\n",
    "        dealer_hand.append(deck.pop())\n",
    "        show_hand(dealer_hand, \"Dealer\")\n",
    "\n",
    "    dealer_value = calculate_hand_value(dealer_hand)\n",
    "    player_value = calculate_hand_value(player_hand)\n",
    "\n",
    "    # Determine winner\n",
    "    print(\"\\n=== Result ===\")\n",
    "    if dealer_value > 21:\n",
    "        print(\"Dealer busts! You win.\")\n",
    "    elif player_value > dealer_value:\n",
    "        print(\"You win!\")\n",
    "    elif player_value < dealer_value:\n",
    "        print(\"Dealer wins.\")\n",
    "    else:\n",
    "        print(\"It's a tie!\")"
   ]
  },
  {
   "cell_type": "code",
   "execution_count": 7,
   "id": "8701cdb1-d13c-42ee-8710-fb8057b2112d",
   "metadata": {},
   "outputs": [
    {
     "name": "stdout",
     "output_type": "stream",
     "text": [
      "=== Blackjack Game ===\n",
      "Dealer's Hand: [Hidden], ('2', 'Spades')\n",
      "Player's Hand: 8 of Clubs, 9 of Clubs  | Value: 17\n"
     ]
    },
    {
     "name": "stdin",
     "output_type": "stream",
     "text": [
      "Do you want to [h]it or [s]tand?  s\n"
     ]
    },
    {
     "name": "stdout",
     "output_type": "stream",
     "text": [
      "\n",
      "Dealer reveals hand:\n",
      "Dealer's Hand: A of Hearts, 2 of Spades  | Value: 13\n",
      "Dealer's Hand: A of Hearts, 2 of Spades, 6 of Clubs  | Value: 19\n",
      "\n",
      "=== Result ===\n",
      "Dealer wins.\n"
     ]
    }
   ],
   "source": [
    "# Run the game\n",
    "play_blackjack()"
   ]
  },
  {
   "cell_type": "code",
   "execution_count": 8,
   "id": "0ae740b0-a64c-4705-bc25-4c7cef3ec224",
   "metadata": {},
   "outputs": [
    {
     "name": "stdout",
     "output_type": "stream",
     "text": [
      "=== Blackjack Game ===\n",
      "Dealer's Hand: [Hidden], ('5', 'Spades')\n",
      "Player's Hand: 4 of Diamonds, 10 of Clubs  | Value: 14\n"
     ]
    },
    {
     "name": "stdin",
     "output_type": "stream",
     "text": [
      "Do you want to [h]it or [s]tand?  h\n"
     ]
    },
    {
     "name": "stdout",
     "output_type": "stream",
     "text": [
      "Player's Hand: 4 of Diamonds, 10 of Clubs, 7 of Diamonds  | Value: 21\n"
     ]
    },
    {
     "name": "stdin",
     "output_type": "stream",
     "text": [
      "Do you want to [h]it or [s]tand?  s\n"
     ]
    },
    {
     "name": "stdout",
     "output_type": "stream",
     "text": [
      "\n",
      "Dealer reveals hand:\n",
      "Dealer's Hand: 6 of Spades, 5 of Spades  | Value: 11\n",
      "Dealer's Hand: 6 of Spades, 5 of Spades, 8 of Diamonds  | Value: 19\n",
      "\n",
      "=== Result ===\n",
      "You win!\n"
     ]
    }
   ],
   "source": [
    "# Run the game\n",
    "play_blackjack()"
   ]
  },
  {
   "cell_type": "code",
   "execution_count": null,
   "id": "6fac2b50-fb3f-4017-8e57-86cb704945b9",
   "metadata": {},
   "outputs": [],
   "source": []
  }
 ],
 "metadata": {
  "kernelspec": {
   "display_name": "Python 3 (ipykernel)",
   "language": "python",
   "name": "python3"
  },
  "language_info": {
   "codemirror_mode": {
    "name": "ipython",
    "version": 3
   },
   "file_extension": ".py",
   "mimetype": "text/x-python",
   "name": "python",
   "nbconvert_exporter": "python",
   "pygments_lexer": "ipython3",
   "version": "3.12.7"
  }
 },
 "nbformat": 4,
 "nbformat_minor": 5
}
