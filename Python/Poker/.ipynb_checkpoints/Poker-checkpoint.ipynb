{
 "cells": [
  {
   "cell_type": "code",
   "execution_count": 1,
   "id": "57cf1ffd-74aa-43cb-be5a-217a4703bcc2",
   "metadata": {},
   "outputs": [],
   "source": [
    "import random\n",
    "from collections import Counter"
   ]
  },
  {
   "cell_type": "code",
   "execution_count": 2,
   "id": "b19553a4-5a11-4c19-a843-b7780e329a84",
   "metadata": {},
   "outputs": [],
   "source": [
    "# Define suits and ranks\n",
    "suits = ['Hearts', 'Diamonds', 'Clubs', 'Spades']\n",
    "ranks = ['2', '3', '4', '5', '6', '7', '8', '9', '10', 'J', 'Q', 'K', 'A']\n",
    "rank_values = {r: i for i, r in enumerate(ranks, 2)}"
   ]
  },
  {
   "cell_type": "code",
   "execution_count": 3,
   "id": "e6950635-8507-4121-a7c8-f5c3cc760dfc",
   "metadata": {},
   "outputs": [],
   "source": [
    "# Generate a deck of 52 cards\n",
    "def create_deck():\n",
    "    return [(rank, suit) for rank in ranks for suit in suits]"
   ]
  },
  {
   "cell_type": "code",
   "execution_count": 4,
   "id": "2902c020-5a03-4fa9-b7a0-b64068eebf5e",
   "metadata": {},
   "outputs": [],
   "source": [
    "# Deal n cards\n",
    "def deal_cards(deck, n=5):\n",
    "    return [deck.pop() for _ in range(n)]"
   ]
  },
  {
   "cell_type": "code",
   "execution_count": 5,
   "id": "e1dc16c9-6d59-43a7-b5a6-8568e4dbc813",
   "metadata": {},
   "outputs": [],
   "source": [
    "# Sort hand by rank\n",
    "def sort_hand(hand):\n",
    "    return sorted(hand, key=lambda x: rank_values[x[0]])"
   ]
  },
  {
   "cell_type": "code",
   "execution_count": 6,
   "id": "b4dc76d0-2aef-4aa1-8129-fdf7c30aa52a",
   "metadata": {},
   "outputs": [],
   "source": [
    "# Hand evaluation helper\n",
    "def hand_rank(hand):\n",
    "    values = [rank_values[card[0]] for card in hand]\n",
    "    suits = [card[1] for card in hand]\n",
    "    value_counts = Counter(values)\n",
    "    counts = sorted(value_counts.values(), reverse=True)\n",
    "    unique_values = sorted(value_counts.keys(), reverse=True)\n",
    "\n",
    "    is_flush = len(set(suits)) == 1\n",
    "    is_straight = len(set(values)) == 5 and max(values) - min(values) == 4\n",
    "    is_royal = set(values) == {10, 11, 12, 13, 14}\n",
    "\n",
    "    if is_straight and is_flush and is_royal:\n",
    "        return (10, \"Royal Flush\")\n",
    "    elif is_straight and is_flush:\n",
    "        return (9, \"Straight Flush\")\n",
    "    elif 4 in counts:\n",
    "        return (8, \"Four of a Kind\")\n",
    "    elif 3 in counts and 2 in counts:\n",
    "        return (7, \"Full House\")\n",
    "    elif is_flush:\n",
    "        return (6, \"Flush\")\n",
    "    elif is_straight:\n",
    "        return (5, \"Straight\")\n",
    "    elif 3 in counts:\n",
    "        return (4, \"Three of a Kind\")\n",
    "    elif counts.count(2) == 2:\n",
    "        return (3, \"Two Pair\")\n",
    "    elif 2 in counts:\n",
    "        return (2, \"One Pair\")\n",
    "    else:\n",
    "        return (1, \"High Card\")"
   ]
  },
  {
   "cell_type": "code",
   "execution_count": 7,
   "id": "175ece90-ab73-42ec-a7b8-b698273ff231",
   "metadata": {},
   "outputs": [],
   "source": [
    "# Display hand nicely\n",
    "def display_hand(hand):\n",
    "    return ', '.join([f\"{r} of {s}\" for r, s in hand])"
   ]
  },
  {
   "cell_type": "code",
   "execution_count": 8,
   "id": "532c93cb-e7f3-4842-9b9b-85f60931bfc3",
   "metadata": {},
   "outputs": [],
   "source": [
    "# Simulate one round between two players\n",
    "def poker_game():\n",
    "    deck = create_deck()\n",
    "    random.shuffle(deck)\n",
    "\n",
    "    player1 = deal_cards(deck)\n",
    "    player2 = deal_cards(deck)\n",
    "\n",
    "    print(\"Player 1 Hand:\", display_hand(player1))\n",
    "    print(\"Player 2 Hand:\", display_hand(player2))\n",
    "\n",
    "    # Players randomly discard up to 3 cards\n",
    "    def redraw(hand):\n",
    "        discard_indices = random.sample(range(5), random.randint(0, 3))\n",
    "        for i in discard_indices:\n",
    "            hand[i] = deck.pop()\n",
    "        return hand\n",
    "\n",
    "    player1 = redraw(player1)\n",
    "    player2 = redraw(player2)\n",
    "\n",
    "    print(\"\\nAfter Draw:\")\n",
    "    print(\"Player 1 Final Hand:\", display_hand(player1))\n",
    "    print(\"Player 2 Final Hand:\", display_hand(player2))\n",
    "\n",
    "    rank1, desc1 = hand_rank(player1)\n",
    "    rank2, desc2 = hand_rank(player2)\n",
    "\n",
    "    print(f\"\\nPlayer 1 has: {desc1}\")\n",
    "    print(f\"Player 2 has: {desc2}\")\n",
    "\n",
    "    if rank1 > rank2:\n",
    "        print(\"🏆 Player 1 Wins!\")\n",
    "    elif rank2 > rank1:\n",
    "        print(\"🏆 Player 2 Wins!\")\n",
    "    else:\n",
    "        print(\"🤝 It's a Tie!\")"
   ]
  },
  {
   "cell_type": "code",
   "execution_count": 9,
   "id": "3fc66732-546a-4d77-b692-04668066b657",
   "metadata": {},
   "outputs": [
    {
     "name": "stdout",
     "output_type": "stream",
     "text": [
      "Player 1 Hand: 4 of Clubs, 10 of Spades, 7 of Spades, 2 of Clubs, 4 of Diamonds\n",
      "Player 2 Hand: 3 of Clubs, K of Hearts, 9 of Spades, 2 of Spades, 9 of Diamonds\n",
      "\n",
      "After Draw:\n",
      "Player 1 Final Hand: 6 of Clubs, 10 of Spades, 10 of Diamonds, 2 of Clubs, 4 of Diamonds\n",
      "Player 2 Final Hand: 10 of Clubs, K of Hearts, J of Clubs, K of Clubs, 9 of Diamonds\n",
      "\n",
      "Player 1 has: One Pair\n",
      "Player 2 has: One Pair\n",
      "🤝 It's a Tie!\n"
     ]
    }
   ],
   "source": [
    "# Run the game\n",
    "poker_game()"
   ]
  },
  {
   "cell_type": "code",
   "execution_count": 10,
   "id": "7d43a2f1-d937-48c3-9c96-412751f4b37b",
   "metadata": {},
   "outputs": [
    {
     "name": "stdout",
     "output_type": "stream",
     "text": [
      "Player 1 Hand: 2 of Diamonds, 7 of Hearts, 9 of Clubs, 10 of Clubs, 8 of Clubs\n",
      "Player 2 Hand: 4 of Hearts, 3 of Hearts, K of Hearts, 8 of Hearts, K of Diamonds\n",
      "\n",
      "After Draw:\n",
      "Player 1 Final Hand: 2 of Diamonds, 7 of Hearts, 9 of Clubs, 9 of Spades, 8 of Clubs\n",
      "Player 2 Final Hand: 4 of Hearts, 5 of Clubs, K of Hearts, 7 of Spades, K of Diamonds\n",
      "\n",
      "Player 1 has: One Pair\n",
      "Player 2 has: One Pair\n",
      "🤝 It's a Tie!\n"
     ]
    }
   ],
   "source": [
    "# Run the game\n",
    "poker_game()"
   ]
  },
  {
   "cell_type": "code",
   "execution_count": 11,
   "id": "43652927-e44a-4ad7-8a03-c76bc101ee74",
   "metadata": {},
   "outputs": [
    {
     "name": "stdout",
     "output_type": "stream",
     "text": [
      "Player 1 Hand: 10 of Hearts, 6 of Diamonds, 6 of Hearts, J of Spades, 2 of Clubs\n",
      "Player 2 Hand: 3 of Clubs, 10 of Diamonds, A of Clubs, A of Diamonds, 3 of Diamonds\n",
      "\n",
      "After Draw:\n",
      "Player 1 Final Hand: 7 of Clubs, 3 of Spades, 6 of Hearts, J of Spades, A of Hearts\n",
      "Player 2 Final Hand: 3 of Clubs, 3 of Hearts, A of Clubs, 4 of Hearts, 3 of Diamonds\n",
      "\n",
      "Player 1 has: High Card\n",
      "Player 2 has: Three of a Kind\n",
      "🏆 Player 2 Wins!\n"
     ]
    }
   ],
   "source": [
    "# Run the game\n",
    "poker_game()"
   ]
  },
  {
   "cell_type": "code",
   "execution_count": null,
   "id": "c83f0491-a2b1-49d4-b7a2-8a910f6532aa",
   "metadata": {},
   "outputs": [],
   "source": []
  }
 ],
 "metadata": {
  "kernelspec": {
   "display_name": "Python 3 (ipykernel)",
   "language": "python",
   "name": "python3"
  },
  "language_info": {
   "codemirror_mode": {
    "name": "ipython",
    "version": 3
   },
   "file_extension": ".py",
   "mimetype": "text/x-python",
   "name": "python",
   "nbconvert_exporter": "python",
   "pygments_lexer": "ipython3",
   "version": "3.12.7"
  }
 },
 "nbformat": 4,
 "nbformat_minor": 5
}
